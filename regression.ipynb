{
  "nbformat": 4,
  "nbformat_minor": 0,
  "metadata": {
    "colab": {
      "name": "regression.ipynb",
      "provenance": [],
      "collapsed_sections": [],
      "include_colab_link": true
    },
    "kernelspec": {
      "name": "python3",
      "display_name": "Python 3"
    }
  },
  "cells": [
    {
      "cell_type": "markdown",
      "metadata": {
        "id": "view-in-github",
        "colab_type": "text"
      },
      "source": [
        "<a href=\"https://colab.research.google.com/github/manukala6/processing/blob/master/regression.ipynb\" target=\"_parent\"><img src=\"https://colab.research.google.com/assets/colab-badge.svg\" alt=\"Open In Colab\"/></a>"
      ]
    },
    {
      "cell_type": "markdown",
      "metadata": {
        "id": "m946Tl4VNsfO",
        "colab_type": "text"
      },
      "source": [
        "**Imports**"
      ]
    },
    {
      "cell_type": "code",
      "metadata": {
        "id": "qDzEqJGdI_EM",
        "colab_type": "code",
        "colab": {}
      },
      "source": [
        "import os\n",
        "import ee\n",
        "import numpy as np\n",
        "import requests\n",
        "import zipfile\n",
        "from sklearn.linear_model import LinearRegression\n",
        "from osgeo import gdal\n",
        "from osgeo import osr"
      ],
      "execution_count": 0,
      "outputs": []
    },
    {
      "cell_type": "markdown",
      "metadata": {
        "id": "cq8Y7t2XNyjL",
        "colab_type": "text"
      },
      "source": [
        "**Authenticate and Initialize**"
      ]
    },
    {
      "cell_type": "code",
      "metadata": {
        "id": "i5M_DuPvbwKE",
        "colab_type": "code",
        "outputId": "a2ceb064-5515-4ceb-8a2f-4f0e15dbe98d",
        "colab": {
          "base_uri": "https://localhost:8080/",
          "height": 173
        }
      },
      "source": [
        "ee.Authenticate()"
      ],
      "execution_count": 0,
      "outputs": [
        {
          "output_type": "stream",
          "text": [
            "To authorize access needed by Earth Engine, open the following URL in a web browser and follow the instructions. If the web browser does not start automatically, please manually browse the URL below.\n",
            "\n",
            "    https://accounts.google.com/o/oauth2/auth?client_id=517222506229-vsmmajv00ul0bs7p89v5m89qs8eb9359.apps.googleusercontent.com&scope=https%3A%2F%2Fwww.googleapis.com%2Fauth%2Fearthengine+https%3A%2F%2Fwww.googleapis.com%2Fauth%2Fdevstorage.full_control&redirect_uri=urn%3Aietf%3Awg%3Aoauth%3A2.0%3Aoob&response_type=code\n",
            "\n",
            "The authorization workflow will generate a code, which you should paste in the box below. \n",
            "Enter verification code: 4/tgGCtaKpU__Xchv4qatHMZD_ksl0Ix6ni_WF0DsuuswnjZ2lOHHjQCg\n",
            "\n",
            "Successfully saved authorization token.\n"
          ],
          "name": "stdout"
        }
      ]
    },
    {
      "cell_type": "code",
      "metadata": {
        "id": "sc9b8EXWb2Ik",
        "colab_type": "code",
        "colab": {}
      },
      "source": [
        "ee.Initialize()"
      ],
      "execution_count": 0,
      "outputs": []
    },
    {
      "cell_type": "markdown",
      "metadata": {
        "id": "xtwOQkRaN49A",
        "colab_type": "text"
      },
      "source": [
        "**Collect Imagery from Assets**"
      ]
    },
    {
      "cell_type": "code",
      "metadata": {
        "id": "GxV5_DhlcNLl",
        "colab_type": "code",
        "colab": {}
      },
      "source": [
        "# links to earth engine image assets\n",
        "naiman_image_links = [\n",
        "  'users/manukala6/naimanResiduals/naimanResiduals1985',\n",
        "  'users/manukala6/naimanResiduals/naimanResiduals1986',\n",
        "  'users/manukala6/naimanResiduals/naimanResiduals1987',\n",
        "  'users/manukala6/naimanResiduals/naimanResiduals1988',\n",
        "  'users/manukala6/naimanResiduals/naimanResiduals1989',\n",
        "  'users/manukala6/naimanResiduals/naimanResiduals1991',\n",
        "  'users/manukala6/naimanResiduals/naimanResiduals1992',\n",
        "  'users/manukala6/naimanResiduals/naimanResiduals1993',\n",
        "  'users/manukala6/naimanResiduals/naimanResiduals1994',\n",
        "  'users/manukala6/naimanResiduals/naimanResiduals1995',\n",
        "  'users/manukala6/naimanResiduals/naimanResiduals1996',\n",
        "  'users/manukala6/naimanResiduals/naimanResiduals1997',\n",
        "  'users/manukala6/naimanResiduals/naimanResiduals1998',\n",
        "  'users/manukala6/naimanResiduals/naimanResiduals1999',\n",
        "  'users/manukala6/naimanResiduals/naimanResiduals2000',\n",
        "  'users/manukala6/naimanResiduals/naimanResiduals2001',\n",
        "  'users/manukala6/naimanResiduals/naimanResiduals2002',\n",
        "  'users/manukala6/naimanResiduals/naimanResiduals2003',\n",
        "  'users/manukala6/naimanResiduals/naimanResiduals2004',\n",
        "  'users/manukala6/naimanResiduals/naimanResiduals2005']\n",
        "\n",
        "# earth engine geometry of study area\n",
        "study_area = ee.Geometry.Polygon(\n",
        "        [[[120.58601753616483, 43.18954310017519],\n",
        "          [120.58601753616483, 43.091842417767054],\n",
        "          [120.7322730293289, 43.091842417767054],\n",
        "          [120.7322730293289, 43.18954310017519]]])"
      ],
      "execution_count": 0,
      "outputs": []
    },
    {
      "cell_type": "code",
      "metadata": {
        "id": "HmqARirie9QB",
        "colab_type": "code",
        "colab": {}
      },
      "source": [
        "naiman_images = []\n",
        "for image_link in naiman_image_links:\n",
        "  naiman_images.append(ee.Image(image_link))"
      ],
      "execution_count": 0,
      "outputs": []
    },
    {
      "cell_type": "code",
      "metadata": {
        "id": "FfszO0w8uCT1",
        "colab_type": "code",
        "outputId": "e370cdcf-cf01-47df-9b97-dc13384991a4",
        "colab": {
          "base_uri": "https://localhost:8080/",
          "height": 54
        }
      },
      "source": [
        "img_test = naiman_images[0]\n",
        "url = img_test.getDownloadUrl({'name': 'Test1', 'crs': 'EPSG:4326', 'scale': '30'})\n",
        "url"
      ],
      "execution_count": 0,
      "outputs": [
        {
          "output_type": "execute_result",
          "data": {
            "text/plain": [
              "'https://earthengine.googleapis.com/api/download?docid=22e4096d449ae78b9372afa790e6f466&token=4da6015ea83c37e51b0b6f5bf9ad0f8d'"
            ]
          },
          "metadata": {
            "tags": []
          },
          "execution_count": 40
        }
      ]
    },
    {
      "cell_type": "code",
      "metadata": {
        "id": "3xwC4JA5ucdK",
        "colab_type": "code",
        "colab": {}
      },
      "source": [
        "r = requests.get(url, stream=True)\n",
        "with open('filename', 'wb') as fd:\n",
        "    for chunk in r.iter_content(chunk_size=1024):\n",
        "        fd.write(chunk)\n",
        "z = zipfile.ZipFile('filename')\n",
        "z.extractall()"
      ],
      "execution_count": 0,
      "outputs": []
    },
    {
      "cell_type": "markdown",
      "metadata": {
        "id": "Mb9Lgyd-BFFP",
        "colab_type": "text"
      },
      "source": [
        "**Create an array of shape** `(num_years, num_bands, num_rows, num_cols)`\n",
        "\n",
        "---\n",
        "\n"
      ]
    },
    {
      "cell_type": "code",
      "metadata": {
        "id": "gXNN6DVUbvSo",
        "colab_type": "code",
        "colab": {}
      },
      "source": [
        "# function to generate numpy array images from image collection\n",
        "def convert_ee2arr (ee_image):\n",
        "  # gather decimal coordinates per pixel\n",
        "  lat_lon = ee_image.clip(study_area).pixelLonLat().addBands(ee_image)\n",
        "  lat_lon = lat_lon.reduceRegion(\n",
        "      reducer=ee.Reducer.toList(),\n",
        "      geometry=study_area,\n",
        "      scale=30,\n",
        "      maxPixels=10000000000\n",
        "  )\n",
        "  # convert each band to nd array\n",
        "  ndvi = np.array((ee.Array(lat_lon.get('ndviCalendar')).getInfo()))\n",
        "  precip = np.array((ee.Array(lat_lon.get('precipitation')).getInfo()))\n",
        "  latitude = np.array((ee.Array(lat_lon.get('latitude')).getInfo()))\n",
        "  longitude = np.array((ee.Array(lat_lon.get('longitude')).getInfo()))\n",
        "  # reshape to rows/columns\n",
        "  num_rows = np.unique(latitude, return_counts=True)[1][0].astype(int)\n",
        "  num_cols = np.unique(longitude, return_counts=True)[1][0].astype(int)\n",
        "  ndvi = ndvi.reshape(num_rows, num_cols)\n",
        "  precip = precip.reshape(num_rows, num_cols)\n",
        "  # stack band arrays\n",
        "  return np.stack((ndvi, precip))"
      ],
      "execution_count": 0,
      "outputs": []
    },
    {
      "cell_type": "code",
      "metadata": {
        "id": "EhovBdJXJpFb",
        "colab_type": "code",
        "colab": {}
      },
      "source": [
        "# do the thing\n",
        "naiman_arr_images = []\n",
        "for i in range(0,15):\n",
        "  naiman_arr_images.append(convert_ee2arr(naiman_images[i]))"
      ],
      "execution_count": 0,
      "outputs": []
    },
    {
      "cell_type": "code",
      "metadata": {
        "id": "sqH7gPVvLOud",
        "colab_type": "code",
        "colab": {}
      },
      "source": [
        "# stack into one array of shape len(naiman_images)\n",
        "naiman_arr = np.asarray(naiman_arr_images)"
      ],
      "execution_count": 0,
      "outputs": []
    },
    {
      "cell_type": "code",
      "metadata": {
        "id": "O1WaYMHf9U0F",
        "colab_type": "code",
        "outputId": "79ca1846-f90e-46c0-c1be-c26b7b40c187",
        "colab": {
          "base_uri": "https://localhost:8080/",
          "height": 85
        }
      },
      "source": [
        "# check the shape\n",
        "print('number of years: ', naiman_arr.shape[0])\n",
        "print('number of bands: ', naiman_arr.shape[1])\n",
        "print('number of cols:  ', naiman_arr.shape[2])\n",
        "print('number of rows:  ', naiman_arr.shape[3])"
      ],
      "execution_count": 0,
      "outputs": [
        {
          "output_type": "stream",
          "text": [
            "number of years:  15\n",
            "number of bands:  2\n",
            "number of cols:   543\n",
            "number of rows:   362\n"
          ],
          "name": "stdout"
        }
      ]
    },
    {
      "cell_type": "markdown",
      "metadata": {
        "id": "3U_mAbfd6G23",
        "colab_type": "text"
      },
      "source": [
        "**Regression**"
      ]
    },
    {
      "cell_type": "code",
      "metadata": {
        "id": "fYkqSns6BF6a",
        "colab_type": "code",
        "outputId": "fbab6db2-4cc4-4e2a-b75e-e743159b2fe2",
        "colab": {
          "base_uri": "https://localhost:8080/",
          "height": 34
        }
      },
      "source": [
        "# obtain ndvi band only\n",
        "ndvi = naiman_arr[:,0]\n",
        "\n",
        "# verify shape\n",
        "ndvi.shape"
      ],
      "execution_count": 0,
      "outputs": [
        {
          "output_type": "execute_result",
          "data": {
            "text/plain": [
              "(15, 543, 362)"
            ]
          },
          "metadata": {
            "tags": []
          },
          "execution_count": 28
        }
      ]
    },
    {
      "cell_type": "code",
      "metadata": {
        "id": "VgGr22M4pp5U",
        "colab_type": "code",
        "colab": {}
      },
      "source": [
        "# append slope per pixel into nd array\n",
        "slopes = np.array([])\n",
        "for row in range(300):\n",
        "  for col in range(300):\n",
        "    x = np.arange(15).reshape((-1,1))\n",
        "    y = ndvi[:,col,row]\n",
        "    model = LinearRegression().fit(x, y)\n",
        "    slopes = np.append(slopes,model.coef_[0])"
      ],
      "execution_count": 0,
      "outputs": []
    },
    {
      "cell_type": "code",
      "metadata": {
        "id": "2Uy5CG0m_hcY",
        "colab_type": "code",
        "outputId": "5f97ce81-a6de-4e2b-b9a9-49698bc9e15c",
        "colab": {
          "base_uri": "https://localhost:8080/",
          "height": 34
        }
      },
      "source": [
        "# verify shape\n",
        "slopes = slopes.reshape((300,300))\n",
        "slopes.shape"
      ],
      "execution_count": 0,
      "outputs": [
        {
          "output_type": "execute_result",
          "data": {
            "text/plain": [
              "(300, 300)"
            ]
          },
          "metadata": {
            "tags": []
          },
          "execution_count": 36
        }
      ]
    },
    {
      "cell_type": "code",
      "metadata": {
        "id": "dxHkQ3F16Kt4",
        "colab_type": "code",
        "outputId": "ac3b44c2-11c4-4ac7-9e3e-fe661ed3b5e4",
        "colab": {
          "base_uri": "https://localhost:8080/",
          "height": 34
        }
      },
      "source": [
        "x = np.asarray([0,1,2,3,4]).reshape((-1,1))\n",
        "y = ndvi[:,0,0]\n",
        "\n",
        "model = LinearRegression().fit(x, y)\n",
        "\n",
        "# slope for this pixel\n",
        "slope = model.coef_[0]\n",
        "print(slope)"
      ],
      "execution_count": 0,
      "outputs": [
        {
          "output_type": "stream",
          "text": [
            "0.015169249475002297\n"
          ],
          "name": "stdout"
        }
      ]
    },
    {
      "cell_type": "markdown",
      "metadata": {
        "id": "OFVwsk4nx_gn",
        "colab_type": "text"
      },
      "source": [
        "**Save as GeoTIFF**\n",
        "\n",
        "---\n",
        "\n"
      ]
    },
    {
      "cell_type": "code",
      "metadata": {
        "id": "f8qMbembVnTT",
        "colab_type": "code",
        "outputId": "cd69c9a4-0993-4a24-ae68-f3c27dbad48b",
        "colab": {
          "base_uri": "https://localhost:8080/",
          "height": 54
        }
      },
      "source": [
        "# config\n",
        "INPUT_ARR = naiman_arr[0,0]\n",
        "upper_left_tuple = (120.58601753616483, 43.18954310017519)\n",
        "# create gdal data source raster object\n",
        "gdal_driver = gdal.GetDriverByName('GTiff')\n",
        "output_raster = gdal_driver.Create('sample_raster_12.tif', int(INPUT_ARR.shape[1]), int(INPUT_ARR.shape[0]), 1, gdal.GDT_Float64)\n",
        "geotransform = (upper_left_tuple[0], 30, upper_left_tuple[1] + 30, -1 *(30), 0, 0)\n",
        "spatial_reference = osr.SpatialReference()\n",
        "spatial_reference.ImportFromEPSG(4326)\n",
        "output_raster.SetProjection(spatial_reference.ExportToWkt())\n",
        "output_raster.SetGeoTransform(geotransform)\n",
        "output_band = output_raster.GetRasterBand(1)\n",
        "output_band.SetNoDataValue(15)\n",
        "output_band.WriteArray(INPUT_ARR)          \n",
        "output_band.FlushCache()\n",
        "output_band.ComputeStatistics(False)\n",
        "output_raster"
      ],
      "execution_count": 0,
      "outputs": [
        {
          "output_type": "execute_result",
          "data": {
            "text/plain": [
              "<osgeo.gdal.Dataset; proxy of <Swig Object of type 'GDALDatasetShadow *' at 0x7fcc666c8bd0> >"
            ]
          },
          "metadata": {
            "tags": []
          },
          "execution_count": 181
        }
      ]
    },
    {
      "cell_type": "code",
      "metadata": {
        "id": "RtxzSIKcW9dE",
        "colab_type": "code",
        "outputId": "abe642c3-0cbc-46d2-c59b-f50ee02ca3ef",
        "colab": {
          "base_uri": "https://localhost:8080/",
          "height": 34
        }
      },
      "source": [
        "output_raster.GetLayerCount()"
      ],
      "execution_count": 0,
      "outputs": [
        {
          "output_type": "execute_result",
          "data": {
            "text/plain": [
              "0"
            ]
          },
          "metadata": {
            "tags": []
          },
          "execution_count": 183
        }
      ]
    },
    {
      "cell_type": "code",
      "metadata": {
        "id": "vLsSItOsk5x-",
        "colab_type": "code",
        "colab": {}
      },
      "source": [
        ""
      ],
      "execution_count": 0,
      "outputs": []
    }
  ]
}