{
  "nbformat": 4,
  "nbformat_minor": 0,
  "metadata": {
    "colab": {
      "name": "regression.ipynb",
      "provenance": [],
      "collapsed_sections": [],
      "include_colab_link": true
    },
    "kernelspec": {
      "name": "python3",
      "display_name": "Python 3"
    }
  },
  "cells": [
    {
      "cell_type": "markdown",
      "metadata": {
        "id": "view-in-github",
        "colab_type": "text"
      },
      "source": [
        "<a href=\"https://colab.research.google.com/github/manukala6/processing/blob/master/regression.ipynb\" target=\"_parent\"><img src=\"https://colab.research.google.com/assets/colab-badge.svg\" alt=\"Open In Colab\"/></a>"
      ]
    },
    {
      "cell_type": "markdown",
      "metadata": {
        "id": "m946Tl4VNsfO",
        "colab_type": "text"
      },
      "source": [
        "**Imports**"
      ]
    },
    {
      "cell_type": "code",
      "metadata": {
        "id": "QH1Xw_mnJJ-F",
        "colab_type": "code",
        "outputId": "9d479659-dd6b-499e-bd40-5ede490bce02",
        "colab": {
          "base_uri": "https://localhost:8080/",
          "height": 122
        }
      },
      "source": [
        "!pip install pyproj"
      ],
      "execution_count": 1,
      "outputs": [
        {
          "output_type": "stream",
          "text": [
            "Collecting pyproj\n",
            "\u001b[?25l  Downloading https://files.pythonhosted.org/packages/1d/45/ea3ae47cd95fcb9f8631c290d00377196aa5f409792b49e4a8a20a3588f5/pyproj-2.4.1-cp36-cp36m-manylinux2010_x86_64.whl (10.1MB)\n",
            "\u001b[K     |████████████████████████████████| 10.1MB 9.4MB/s \n",
            "\u001b[?25hInstalling collected packages: pyproj\n",
            "Successfully installed pyproj-2.4.1\n"
          ],
          "name": "stdout"
        }
      ]
    },
    {
      "cell_type": "code",
      "metadata": {
        "id": "qDzEqJGdI_EM",
        "colab_type": "code",
        "colab": {}
      },
      "source": [
        "import ee\n",
        "import numpy as np\n",
        "import matplotlib.pyplot as plt\n",
        "import seaborn as sns\n",
        "import skimage\n",
        "from pyproj import Proj"
      ],
      "execution_count": 0,
      "outputs": []
    },
    {
      "cell_type": "markdown",
      "metadata": {
        "id": "cq8Y7t2XNyjL",
        "colab_type": "text"
      },
      "source": [
        "**Authenticate and Initialize**"
      ]
    },
    {
      "cell_type": "code",
      "metadata": {
        "id": "i5M_DuPvbwKE",
        "colab_type": "code",
        "outputId": "30e2ef0a-c97a-4fff-abd6-c09e3f6027db",
        "colab": {
          "base_uri": "https://localhost:8080/",
          "height": 173
        }
      },
      "source": [
        "ee.Authenticate()"
      ],
      "execution_count": 3,
      "outputs": [
        {
          "output_type": "stream",
          "text": [
            "To authorize access needed by Earth Engine, open the following URL in a web browser and follow the instructions. If the web browser does not start automatically, please manually browse the URL below.\n",
            "\n",
            "    https://accounts.google.com/o/oauth2/auth?client_id=517222506229-vsmmajv00ul0bs7p89v5m89qs8eb9359.apps.googleusercontent.com&scope=https%3A%2F%2Fwww.googleapis.com%2Fauth%2Fearthengine+https%3A%2F%2Fwww.googleapis.com%2Fauth%2Fdevstorage.full_control&redirect_uri=urn%3Aietf%3Awg%3Aoauth%3A2.0%3Aoob&response_type=code\n",
            "\n",
            "The authorization workflow will generate a code, which you should paste in the box below. \n",
            "Enter verification code: 4/tQEqB5EDtZ8IjFLIan8wC7zFWMUpX9IGOieJEC7W6Z3McUCH47fwpqE\n",
            "\n",
            "Successfully saved authorization token.\n"
          ],
          "name": "stdout"
        }
      ]
    },
    {
      "cell_type": "code",
      "metadata": {
        "id": "sc9b8EXWb2Ik",
        "colab_type": "code",
        "colab": {}
      },
      "source": [
        "ee.Initialize()"
      ],
      "execution_count": 0,
      "outputs": []
    },
    {
      "cell_type": "markdown",
      "metadata": {
        "id": "xtwOQkRaN49A",
        "colab_type": "text"
      },
      "source": [
        "**Collect Imagery from Assets**"
      ]
    },
    {
      "cell_type": "code",
      "metadata": {
        "id": "GxV5_DhlcNLl",
        "colab_type": "code",
        "colab": {}
      },
      "source": [
        "# links to earth engine image assets\n",
        "naiman_image_links = [\n",
        "  'users/manukala6/naimanResiduals/naimanResiduals1985',\n",
        "  'users/manukala6/naimanResiduals/naimanResiduals1986',\n",
        "  'users/manukala6/naimanResiduals/naimanResiduals1987',\n",
        "  'users/manukala6/naimanResiduals/naimanResiduals1988',\n",
        "  'users/manukala6/naimanResiduals/naimanResiduals1989',\n",
        "  'users/manukala6/naimanResiduals/naimanResiduals1991',\n",
        "  'users/manukala6/naimanResiduals/naimanResiduals1992',\n",
        "  'users/manukala6/naimanResiduals/naimanResiduals1993',\n",
        "  'users/manukala6/naimanResiduals/naimanResiduals1994',\n",
        "  'users/manukala6/naimanResiduals/naimanResiduals1995',\n",
        "  'users/manukala6/naimanResiduals/naimanResiduals1996',\n",
        "  'users/manukala6/naimanResiduals/naimanResiduals1997',\n",
        "  'users/manukala6/naimanResiduals/naimanResiduals1998',\n",
        "  'users/manukala6/naimanResiduals/naimanResiduals1999',\n",
        "  'users/manukala6/naimanResiduals/naimanResiduals2000',\n",
        "  'users/manukala6/naimanResiduals/naimanResiduals2001',\n",
        "  'users/manukala6/naimanResiduals/naimanResiduals2002',\n",
        "  'users/manukala6/naimanResiduals/naimanResiduals2003',\n",
        "  'users/manukala6/naimanResiduals/naimanResiduals2004',\n",
        "  'users/manukala6/naimanResiduals/naimanResiduals2005']\n",
        "\n",
        "# earth engine geometry of study area\n",
        "study_area = ee.Geometry.Polygon(\n",
        "        [[[120.57634266181299, 43.154841164437116],\n",
        "          [120.57634266181299, 43.11575743324893],\n",
        "          [120.66560657782861, 43.11575743324893],\n",
        "          [120.66560657782861, 43.154841164437116]]]);"
      ],
      "execution_count": 0,
      "outputs": []
    },
    {
      "cell_type": "code",
      "metadata": {
        "id": "HmqARirie9QB",
        "colab_type": "code",
        "colab": {}
      },
      "source": [
        "naiman_images = []\n",
        "for image_link in naiman_image_links:\n",
        "  naiman_images.append(ee.Image(image_link))"
      ],
      "execution_count": 0,
      "outputs": []
    },
    {
      "cell_type": "markdown",
      "metadata": {
        "id": "Mb9Lgyd-BFFP",
        "colab_type": "text"
      },
      "source": [
        "**Create an array of shape** `(num_years, num_bands, num_pixels)`"
      ]
    },
    {
      "cell_type": "code",
      "metadata": {
        "id": "gXNN6DVUbvSo",
        "colab_type": "code",
        "colab": {}
      },
      "source": [
        "# function to generate numpy array images from image collection\n",
        "def convert_ee2ndarray (ee_image):\n",
        "  # gather decimal coordinates per pixel\n",
        "  lat_lon = ee_image.clip(study_area).pixelLonLat().addBands(ee_image)\n",
        "  lat_lon = lat_lon.reduceRegion(\n",
        "      reducer=ee.Reducer.toList(),\n",
        "      geometry=study_area,\n",
        "      scale=30,\n",
        "      maxPixels=10000000000\n",
        "  )\n",
        "  # convert each band to nd array\n",
        "  ndvi = np.array((ee.Array(lat_lon.get('ndviCalendar')).getInfo()))\n",
        "  precip = np.array((ee.Array(lat_lon.get('precipitation')).getInfo()))\n",
        "  latitude = np.array((ee.Array(lat_lon.get('latitude')).getInfo()))\n",
        "  longitude = np.array((ee.Array(lat_lon.get('longitude')).getInfo()))\n",
        "  # stack band arrays\n",
        "  return np.stack((ndvi, precip, latitude, longitude))"
      ],
      "execution_count": 0,
      "outputs": []
    },
    {
      "cell_type": "code",
      "metadata": {
        "id": "EhovBdJXJpFb",
        "colab_type": "code",
        "colab": {}
      },
      "source": [
        "# do the thing\n",
        "naiman_arr_images = []\n",
        "for i in range(0,5):\n",
        "  naiman_arr_images.append(convert_ee2ndarray(naiman_images[i]))"
      ],
      "execution_count": 0,
      "outputs": []
    },
    {
      "cell_type": "code",
      "metadata": {
        "id": "sqH7gPVvLOud",
        "colab_type": "code",
        "colab": {}
      },
      "source": [
        "# stack into one array of shape len(naiman_images)\n",
        "naiman_arr = np.asarray(naiman_arr_images)"
      ],
      "execution_count": 0,
      "outputs": []
    },
    {
      "cell_type": "code",
      "metadata": {
        "id": "O1WaYMHf9U0F",
        "colab_type": "code",
        "colab": {
          "base_uri": "https://localhost:8080/",
          "height": 34
        },
        "outputId": "2483976a-8271-469c-87bd-0ba5ef81222a"
      },
      "source": [
        "# check the shape\n",
        "naiman_arr.shape"
      ],
      "execution_count": 10,
      "outputs": [
        {
          "output_type": "execute_result",
          "data": {
            "text/plain": [
              "(5, 4, 47995)"
            ]
          },
          "metadata": {
            "tags": []
          },
          "execution_count": 10
        }
      ]
    },
    {
      "cell_type": "code",
      "metadata": {
        "id": "JJ45fGkR9VU8",
        "colab_type": "code",
        "colab": {
          "base_uri": "https://localhost:8080/",
          "height": 34
        },
        "outputId": "8f810730-b47e-43d8-c5bf-814b5d5ffe05"
      },
      "source": [
        "point_ndvi_arr = naiman_arr[:,0,0]\n",
        "year_arr = np.array([])\n",
        "for i in range(0, point_ndvi_arr.shape[0]):\n",
        "  year_arr = np.append(year_arr, i+1985)\n",
        "year_arr.astype(int)"
      ],
      "execution_count": 18,
      "outputs": [
        {
          "output_type": "execute_result",
          "data": {
            "text/plain": [
              "array([1985, 1986, 1987, 1988, 1989])"
            ]
          },
          "metadata": {
            "tags": []
          },
          "execution_count": 18
        }
      ]
    },
    {
      "cell_type": "code",
      "metadata": {
        "id": "-uTrO-hmjxmm",
        "colab_type": "code",
        "colab": {
          "base_uri": "https://localhost:8080/",
          "height": 269
        },
        "outputId": "2ad4bb4b-6b17-4a84-c240-01921f9a4961"
      },
      "source": [
        "ax = plt.scatter(x=year_arr, y=point_ndvi_arr)"
      ],
      "execution_count": 32,
      "outputs": [
        {
          "output_type": "display_data",
          "data": {
            "image/png": "[encoded data removed]",
            "text/plain": [
              "<Figure size 432x288 with 1 Axes>"
            ]
          },
          "metadata": {
            "tags": []
          }
        }
      ]
    },
    {
      "cell_type": "code",
      "metadata": {
        "id": "uAlMWCdIkLdZ",
        "colab_type": "code",
        "colab": {}
      },
      "source": [
        ""
      ],
      "execution_count": 0,
      "outputs": []
    }
  ]
}