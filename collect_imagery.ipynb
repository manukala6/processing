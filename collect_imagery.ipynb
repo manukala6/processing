{
 "cells": [
  {
   "cell_type": "markdown",
   "metadata": {},
   "source": [
    "### Import modules and initialize"
   ]
  },
  {
   "cell_type": "code",
   "execution_count": 2,
   "metadata": {
    "collapsed": true
   },
   "outputs": [],
   "source": [
    "import os\n",
    "import ee\n",
    "import folium\n",
    "import shapefile\n",
    "import numpy as np"
   ]
  },
  {
   "cell_type": "code",
   "execution_count": 3,
   "metadata": {
    "collapsed": true
   },
   "outputs": [],
   "source": [
    "ee.Initialize()"
   ]
  },
  {
   "cell_type": "markdown",
   "metadata": {},
   "source": [
    "### Inputs"
   ]
  },
  {
   "cell_type": "code",
   "execution_count": 23,
   "metadata": {},
   "outputs": [],
   "source": [
    "TILES_DIR = '../../data/ghana/tiles'\n",
    "SHP_DIR_LIST = os.listdir(TILES_DIR)\n",
    "shp_list = []\n",
    "for SHP_DIR in SHP_DIR_LIST:\n",
    "    shp = os.path.join(TILES_DIR, SHP_DIR, SHP_DIR+'.shp')\n",
    "    shp_list.append(shp)"
   ]
  },
  {
   "cell_type": "code",
   "execution_count": 34,
   "metadata": {},
   "outputs": [
    {
     "name": "stdout",
     "output_type": "stream",
     "text": [
      "ghana_l_23\n",
      "ghana_s_12\n",
      "ghana_l_14\n",
      "ghana_l_21\n",
      "ghana_l_0\n",
      "ghana_l_11\n",
      "ghana_s_0\n",
      "ghana_s_20\n",
      "ghana_l_1\n",
      "ghana_s_13\n",
      "ghana_s_4\n",
      "ghana_l_22\n",
      "ghana_l_2\n",
      "ghana_l_19\n",
      "ghana_l_5\n",
      "ghana_l_10\n",
      "ghana_s_10\n",
      "ghana_s_5\n",
      "ghana_s_9\n",
      "ghana_s_8\n",
      "ghana_l_4\n",
      "ghana_l_9\n",
      "ghana_s_7\n",
      "ghana_s_15\n",
      "ghana_s_19\n",
      "ghana_l_17\n",
      "ghana_l_7\n",
      "ghana_l_12\n",
      "ghana_l_8\n",
      "ghana_s_2\n",
      "ghana_l_13\n",
      "ghana_l_6\n",
      "ghana_s_18\n",
      "ghana_s_11\n",
      "ghana_s_3\n",
      "ghana_l_18\n",
      "ghana_s_16\n",
      "ghana_l_15\n",
      "ghana_s_1\n",
      "ghana_s_6\n",
      "ghana_s_23\n",
      "ghana_s_17\n",
      "ghana_s_22\n",
      "ghana_l_3\n",
      "ghana_l_16\n",
      "ghana_s_21\n",
      "ghana_s_14\n",
      "ghana_l_20\n"
     ]
    }
   ],
   "source": [
    "for shp_fp in shp_list:\n",
    "    print(os.path.basename(shp_fp)[:-4])"
   ]
  },
  {
   "cell_type": "markdown",
   "metadata": {},
   "source": [
    "### Collect imagery"
   ]
  },
  {
   "cell_type": "code",
   "execution_count": 35,
   "metadata": {
    "collapsed": true
   },
   "outputs": [],
   "source": [
    "# function to convert shapefile into feature collection\n",
    "def convert_shp2feature (shp_fp):\n",
    "    shp = shapefile.Reader(shp_fp)\n",
    "    fields = shp.fields[1:]\n",
    "    field_names = [field[0] for field in fields]\n",
    "    wgs84 = ee.Projection('EPSG:4326')\n",
    "    features = []\n",
    "    for sr in shp.shapeRecords():\n",
    "        atr = dict(zip(field_names, sr.record))\n",
    "        geom = sr.shape.__geo_interface__\n",
    "        ee_geometry = ee.Geometry(geom,'EPSG:4326')\n",
    "        feat = ee.Feature(ee_geometry, atr)\n",
    "        features.append(feat)\n",
    "    fc = ee.FeatureCollection(features)\n",
    "    feature = ee.Feature(fc.first())\n",
    "    feature.set('tile', os.path.basename(shp_fp)[:-4])\n",
    "    return feature\n",
    "\n",
    "# function to cloud mask sentinel imagery\n",
    "def mask_clouds_sentinel (image):\n",
    "    qa = image.select('QA60')\n",
    "    cloudBitMask = int(2**10)\n",
    "    cirrusBitMask = int(2**11)\n",
    "    clear_pixels = qa.bitwiseAnd(cloudBitMask).eq(0)\\\n",
    "        .And(qa.bitwiseAnd(cirrusBitMask).eq(0))\n",
    "        \n",
    "    return image.updateMask(clear_pixels).divide(10000)\n",
    "\n",
    "# function to calculate centroid of feature\n",
    "def calc_centroid (feature):\n",
    "    # obtain geometry\n",
    "    bounds = feature.geometry()\n",
    "    \n",
    "    # calculate centroid\n",
    "    xmax = bounds.coordinates().getInfo()[0][2][0]\n",
    "    xmin = bounds.coordinates().getInfo()[0][0][0]\n",
    "    ymin = bounds.coordinates().getInfo()[0][3][1]\n",
    "    ymax = bounds.coordinates().getInfo()[0][1][1]\n",
    "    xmean = np.average([xmin, xmax])\n",
    "    ymean = np.average([ymin, ymax])\n",
    "    \n",
    "    return [ymean, xmean], ee.Geometry.Point([xmean, ymean]), [[xmin, ymin], [xmin, ymax], [xmax, ymax], [xmax, ymin]]"
   ]
  },
  {
   "cell_type": "code",
   "execution_count": 36,
   "metadata": {},
   "outputs": [],
   "source": [
    "ee_bounds_list = []\n",
    "\n",
    "for shp in shp_list:\n",
    "    ee_bounds_list.append(convert_shp2feature(shp))"
   ]
  },
  {
   "cell_type": "code",
   "execution_count": 20,
   "metadata": {},
   "outputs": [],
   "source": [
    "poi_list = []\n",
    "centroid_list = []\n",
    "coord_bounds_list = []\n",
    "\n",
    "for ee_bounds in ee_bounds_list:\n",
    "    poi, centroid, coord_bounds = calc_centroid(ee_bounds)\n",
    "    poi_list.append(poi)\n",
    "    centroid_list.append(centroid)\n",
    "    coord_bounds_list.append(coord_bounds)"
   ]
  },
  {
   "cell_type": "code",
   "execution_count": 21,
   "metadata": {
    "collapsed": true
   },
   "outputs": [],
   "source": [
    "median_image_list = []\n",
    "sentinel_sr_collection = image = ee.ImageCollection('COPERNICUS/S2_SR')\n",
    "\n",
    "for i in range(len(centroid_list)):\n",
    "    median_image = sentinel_sr_collection\\\n",
    "        .filterBounds(centroid[i])\\\n",
    "        .map(mask_clouds_sentinel)\\\n",
    "        .median()\\\n",
    "        .clip(ee_bounds[i])\n",
    "    median_image_list.append(median_image)"
   ]
  },
  {
   "cell_type": "markdown",
   "metadata": {},
   "source": [
    "### Display"
   ]
  },
  {
   "cell_type": "markdown",
   "metadata": {},
   "source": [
    "Skip if not testing"
   ]
  },
  {
   "cell_type": "code",
   "execution_count": 7,
   "metadata": {
    "collapsed": true
   },
   "outputs": [],
   "source": [
    "# function to display ee image tiles on folium map\n",
    "def add_ee_layer(self, eeImageObject, visParams, name):\n",
    "  mapID = ee.Image(eeImageObject).getMapId(visParams)\n",
    "  folium.raster_layers.TileLayer(\n",
    "    tiles = \"https://earthengine.googleapis.com/map/\"+mapID['mapid']+\"/{z}/{x}/{y}?token=\"+mapID['token'],\n",
    "    attr = \"Map Data &copy; <a href='https://earthengine.google.com/'>Google Earth Engine</a>\",\n",
    "    name = name,\n",
    "    overlay = True,\n",
    "    control = True\n",
    "  ).add_to(self)"
   ]
  },
  {
   "cell_type": "code",
   "execution_count": 8,
   "metadata": {
    "collapsed": true
   },
   "outputs": [],
   "source": [
    "# create map\n",
    "folium.Map.add_ee_layer = add_ee_layer\n",
    "eeMap = folium.Map(location=poi, zoom_start=8)"
   ]
  },
  {
   "cell_type": "code",
   "execution_count": 9,
   "metadata": {
    "collapsed": true
   },
   "outputs": [],
   "source": [
    "# define visualization parameters\n",
    "sentinel_sr_vis_params = {\n",
    "    'bands':['B4','B3','B2'], \n",
    "    'min':0, \n",
    "    'max':0.2\n",
    "}"
   ]
  },
  {
   "cell_type": "code",
   "execution_count": 10,
   "metadata": {
    "collapsed": true
   },
   "outputs": [],
   "source": [
    "# add layers to map\n",
    "eeMap.add_ee_layer(image, sentinel_sr_vis_params, 'precipitation')"
   ]
  },
  {
   "cell_type": "code",
   "execution_count": 11,
   "metadata": {},
   "outputs": [
    {
     "data": {
      "text/html": [
       "<div style=\"width:100%;\"><div style=\"position:relative;width:100%;height:0;padding-bottom:60%;\"><iframe src=\"data:text/html;charset=utf-8;base64,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\" style=\"position:absolute;width:100%;height:100%;left:0;top:0;border:none !important;\" allowfullscreen webkitallowfullscreen mozallowfullscreen></iframe></div></div>"
      ],
      "text/plain": [
       "<folium.folium.Map at 0x7f002b643f60>"
      ]
     },
     "metadata": {},
     "output_type": "display_data"
    }
   ],
   "source": [
    "# display map\n",
    "eeMap.add_child(folium.LayerControl())\n",
    "folium.Marker(poi).add_to(eeMap)\n",
    "display(eeMap)"
   ]
  },
  {
   "cell_type": "markdown",
   "metadata": {},
   "source": [
    "### Save to Google Drive"
   ]
  },
  {
   "cell_type": "code",
   "execution_count": 24,
   "metadata": {},
   "outputs": [
    {
     "data": {
      "text/plain": [
       "[<ee.image.Image at 0x7f93c723de10>,\n",
       " <ee.image.Image at 0x7f93c827ff98>,\n",
       " <ee.image.Image at 0x7f93c74b4e48>,\n",
       " <ee.image.Image at 0x7f93c74b4940>,\n",
       " <ee.image.Image at 0x7f93c71c9ba8>,\n",
       " <ee.image.Image at 0x7f93c722ef60>,\n",
       " <ee.image.Image at 0x7f93c7225c88>,\n",
       " <ee.image.Image at 0x7f93c72398d0>,\n",
       " <ee.image.Image at 0x7f93c722e358>,\n",
       " <ee.image.Image at 0x7f93c71ccc50>,\n",
       " <ee.image.Image at 0x7f93c71cc240>,\n",
       " <ee.image.Image at 0x7f93c71cc208>,\n",
       " <ee.image.Image at 0x7f93c71dd2b0>,\n",
       " <ee.image.Image at 0x7f93c71dd710>,\n",
       " <ee.image.Image at 0x7f93c71e1320>,\n",
       " <ee.image.Image at 0x7f93c71e13c8>,\n",
       " <ee.image.Image at 0x7f93c71e1390>,\n",
       " <ee.image.Image at 0x7f93c71e57f0>,\n",
       " <ee.image.Image at 0x7f93c71e55c0>,\n",
       " <ee.image.Image at 0x7f93c71e5588>,\n",
       " <ee.image.Image at 0x7f93c71e8278>,\n",
       " <ee.image.Image at 0x7f93c71e8438>,\n",
       " <ee.image.Image at 0x7f93c71e8048>,\n",
       " <ee.image.Image at 0x7f93c71ed358>,\n",
       " <ee.image.Image at 0x7f93c71ed860>,\n",
       " <ee.image.Image at 0x7f93c71f1240>,\n",
       " <ee.image.Image at 0x7f93c71f1400>,\n",
       " <ee.image.Image at 0x7f93c71f1b00>,\n",
       " <ee.image.Image at 0x7f93c71f7438>,\n",
       " <ee.image.Image at 0x7f93c71f74a8>,\n",
       " <ee.image.Image at 0x7f93c71f74e0>,\n",
       " <ee.image.Image at 0x7f93c71fe5f8>,\n",
       " <ee.image.Image at 0x7f93c71fe320>,\n",
       " <ee.image.Image at 0x7f93c71feb00>,\n",
       " <ee.image.Image at 0x7f93c723dd30>,\n",
       " <ee.image.Image at 0x7f93c7da66d8>,\n",
       " <ee.image.Image at 0x7f93c827f710>,\n",
       " <ee.image.Image at 0x7f93c71c9da0>,\n",
       " <ee.image.Image at 0x7f93c74b49b0>,\n",
       " <ee.image.Image at 0x7f93c7204550>,\n",
       " <ee.image.Image at 0x7f93c7204400>,\n",
       " <ee.image.Image at 0x7f93c7204c50>,\n",
       " <ee.image.Image at 0x7f93c71903c8>,\n",
       " <ee.image.Image at 0x7f93c71907f0>,\n",
       " <ee.image.Image at 0x7f93c71906a0>,\n",
       " <ee.image.Image at 0x7f93c7193390>,\n",
       " <ee.image.Image at 0x7f93c7193828>,\n",
       " <ee.image.Image at 0x7f93c7193a20>]"
      ]
     },
     "execution_count": 24,
     "metadata": {},
     "output_type": "execute_result"
    }
   ],
   "source": [
    "median_image_list"
   ]
  },
  {
   "cell_type": "code",
   "execution_count": 12,
   "metadata": {
    "collapsed": true
   },
   "outputs": [],
   "source": [
    "\n",
    "\n",
    "coord_bounds = ee_bounds.geometry().coordinates().getInfo()[0][:4]\n",
    "\n",
    "task_config = {\n",
    "    'folder': 'ghana',\n",
    "    'scale': 10,\n",
    "    'region': coord_bounds,\n",
    "    'maxPixels': 10000000000\n",
    "}\n",
    "\n",
    "image = image.clip(ee_bounds)\n",
    "task = ee.batch.Export.image(image, 'ghana_test_01', task_config)"
   ]
  },
  {
   "cell_type": "code",
   "execution_count": 13,
   "metadata": {
    "collapsed": true
   },
   "outputs": [],
   "source": [
    "task.start()"
   ]
  },
  {
   "cell_type": "code",
   "execution_count": null,
   "metadata": {
    "collapsed": true
   },
   "outputs": [],
   "source": []
  }
 ],
 "metadata": {
  "kernelspec": {
   "display_name": "neokosmo",
   "language": "python",
   "name": "earthengine"
  },
  "language_info": {
   "codemirror_mode": {
    "name": "ipython",
    "version": 3
   },
   "file_extension": ".py",
   "mimetype": "text/x-python",
   "name": "python",
   "nbconvert_exporter": "python",
   "pygments_lexer": "ipython3",
   "version": "3.7.3"
  }
 },
 "nbformat": 4,
 "nbformat_minor": 2
}
