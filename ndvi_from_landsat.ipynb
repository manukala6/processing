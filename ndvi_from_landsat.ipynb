{
 "cells": [
  {
   "cell_type": "markdown",
   "metadata": {},
   "source": [
    "##### This notebook will identifiy trends in NDVI for a given time period from Landsat 8 L1 data\n",
    "Author: Maanas Nukala \n",
    "\n",
    "Date: 1/9/2020"
   ]
  },
  {
   "cell_type": "markdown",
   "metadata": {},
   "source": [
    "### 1. Inputs"
   ]
  },
  {
   "cell_type": "markdown",
   "metadata": {},
   "source": [
    "Format for bounding box: `[x1, y1, x2, y2]`"
   ]
  },
  {
   "cell_type": "code",
   "execution_count": 1,
   "metadata": {},
   "outputs": [],
   "source": [
    "BBOX = [-120.092387, 36.85121, -120.055737, 36.873116]\n",
    "DATETIME = '2019-09-01/2019-09-28'\n",
    "MAX_CLOUD_COVER = 5"
   ]
  },
  {
   "cell_type": "markdown",
   "metadata": {},
   "source": [
    "### 2. Search for scenes"
   ]
  },
  {
   "cell_type": "markdown",
   "metadata": {},
   "source": [
    "Obtain Spatio-Temporal Asset Catalog (STAC):"
   ]
  },
  {
   "cell_type": "code",
   "execution_count": 2,
   "metadata": {},
   "outputs": [
    {
     "name": "stdout",
     "output_type": "stream",
     "text": [
      "Found 9 scenes\n"
     ]
    }
   ],
   "source": [
    "from satsearch import Search\n",
    "from satstac import Catalog, Collection, Item\n",
    "\n",
    "search = Search.search(bbox=BBOX, datetime=DATETIME, collection='landsat-8-l1', \n",
    "                       property=['eo:cloud_cover<'+str(MAX_CLOUD_COVER)]\n",
    ")\n",
    "\n",
    "print('Found %s scenes' % search.found())"
   ]
  },
  {
   "cell_type": "markdown",
   "metadata": {},
   "source": [
    "View collection dates of scenes in STAC:"
   ]
  },
  {
   "cell_type": "code",
   "execution_count": 3,
   "metadata": {},
   "outputs": [
    {
     "name": "stdout",
     "output_type": "stream",
     "text": [
      "                              2019                              \n",
      "\n",
      "        July                 August              September      \n",
      "Mo Tu We Th Fr Sa Su  Mo Tu We Th Fr Sa Su  Mo Tu We Th Fr Sa Su\n",
      " 1  2  3  4  5  6  7            1  2  3  4                    \u001b[41m 1\u001b[0m  \n",
      " 8  9 10 11 12 13 14   5  6  7  8  9 10 11  \u001b[41m 2\u001b[0m  3  4  5  6  7  8  \n",
      "15 16 17 18 19 20 21  12 13 14 15 16 17 18  \u001b[41m 9\u001b[0m \u001b[41m10\u001b[0m 11 12 13 14 15  \n",
      "22 23 24 25 26 27 28  19 20 21 22 23 24 25  16 \u001b[41m17\u001b[0m \u001b[41m18\u001b[0m 19 20 21 22  \n",
      "29 30 31              26 27 28 29 30 31     23 24 \u001b[41m25\u001b[0m \u001b[41m26\u001b[0m 27 28 29  \n",
      "\n",
      "\u001b[41mlandsat-8 (1)\u001b[0m\n",
      "8 total dates\n"
     ]
    }
   ],
   "source": [
    "scenes = search.items()\n",
    "print(scenes.calendar())"
   ]
  },
  {
   "cell_type": "markdown",
   "metadata": {},
   "source": [
    "### 3. Download NIR and RED bands"
   ]
  },
  {
   "cell_type": "markdown",
   "metadata": {},
   "source": [
    "Obtain urls from STAC for each band"
   ]
  },
  {
   "cell_type": "code",
   "execution_count": 4,
   "metadata": {},
   "outputs": [],
   "source": [
    "nir_url = scenes[0].assets['B5']['href']\n",
    "red_url = scenes[0].assets['B4']['href']"
   ]
  },
  {
   "cell_type": "markdown",
   "metadata": {},
   "source": [
    "Function to write destination `.TIF` file from `url (str)` and `filename (str)`"
   ]
  },
  {
   "cell_type": "code",
   "execution_count": 5,
   "metadata": {},
   "outputs": [],
   "source": [
    "import requests\n",
    "from tqdm.notebook import tqdm\n",
    "\n",
    "def download_tif (tif_url, filename=False):\n",
    "    tif_response = requests.get(tif_url, stream=True)\n",
    "    file_size = int(tif_response.headers['Content-Length'])\n",
    "    chunk = 1,\n",
    "    CHUNK_SIZE = 1024\n",
    "    NUM_BARS = int(file_size / CHUNK_SIZE)\n",
    "    with open(filename, 'wb') as handle:\n",
    "        for chunk in tqdm (\n",
    "            tif_response.iter_content(chunk_size=CHUNK_SIZE),\n",
    "            total=NUM_BARS,\n",
    "            unit='KB',\n",
    "            desc=filename,\n",
    "            leave=True\n",
    "        ):\n",
    "            handle.write(chunk)"
   ]
  },
  {
   "cell_type": "markdown",
   "metadata": {},
   "source": [
    "Download data as `.TIF`"
   ]
  },
  {
   "cell_type": "code",
   "execution_count": 6,
   "metadata": {},
   "outputs": [
    {
     "data": {
      "application/vnd.jupyter.widget-view+json": {
       "model_id": "7b35e7373b2a45d682bd0cf3c2e31b0f",
       "version_major": 2,
       "version_minor": 0
      },
      "text/plain": [
       "HBox(children=(FloatProgress(value=0.0, description='nir_test.tif', max=67903.0, style=ProgressStyle(descripti…"
      ]
     },
     "metadata": {},
     "output_type": "display_data"
    },
    {
     "name": "stdout",
     "output_type": "stream",
     "text": [
      "\n"
     ]
    }
   ],
   "source": [
    "# download nir data\n",
    "download_tif(nir_url, filename='nir_test.tif')"
   ]
  },
  {
   "cell_type": "code",
   "execution_count": 7,
   "metadata": {},
   "outputs": [
    {
     "data": {
      "application/vnd.jupyter.widget-view+json": {
       "model_id": "ba00f3cff56b458387fe7a1afc4250a4",
       "version_major": 2,
       "version_minor": 0
      },
      "text/plain": [
       "HBox(children=(FloatProgress(value=0.0, description='red_test.tif', max=66449.0, style=ProgressStyle(descripti…"
      ]
     },
     "metadata": {},
     "output_type": "display_data"
    },
    {
     "name": "stdout",
     "output_type": "stream",
     "text": [
      "\n"
     ]
    }
   ],
   "source": [
    "# downdload red data\n",
    "download_tif(red_url, filename='red_test.tif')"
   ]
  },
  {
   "cell_type": "markdown",
   "metadata": {},
   "source": [
    "### 4. Convert `BBOX` TO `.SHP`"
   ]
  },
  {
   "cell_type": "code",
   "execution_count": 9,
   "metadata": {},
   "outputs": [],
   "source": [
    "import geopandas as gpd\n",
    "from shapely.geometry import Polygon\n",
    "from fiona.crs import from_epsg\n",
    "\n",
    "polygon_geom = Polygon([\n",
    "    [BBOX[0], BBOX[1]],\n",
    "    [BBOX[2], BBOX[1]],\n",
    "    [BBOX[2], BBOX[3]],\n",
    "    [BBOX[0], BBOX[3]],\n",
    "    [BBOX[0], BBOX[1]]\n",
    "])\n",
    "crs = {'init': 'epsg:4326'}\n",
    "polygon = gpd.GeoDataFrame(index=[0], crs=from_epsg(4326), geometry=[polygon_geom])       \n",
    "polygon.to_file(filename='bbox.shp', driver='ESRI Shapefile')"
   ]
  },
  {
   "cell_type": "markdown",
   "metadata": {},
   "source": [
    "Open `.SHP` as geodataframe"
   ]
  },
  {
   "cell_type": "code",
   "execution_count": 10,
   "metadata": {},
   "outputs": [],
   "source": [
    "ripperdan_nw = gpd.read_file('bbox.shp')"
   ]
  },
  {
   "cell_type": "markdown",
   "metadata": {},
   "source": [
    "### 5. Clip `.TIFs` by AOI"
   ]
  },
  {
   "cell_type": "code",
   "execution_count": 11,
   "metadata": {},
   "outputs": [],
   "source": [
    "import rasterio as rio\n",
    "from rasterio.plot import show\n",
    "from rasterio.plot import show_hist\n",
    "from rasterio.mask import mask\n",
    "from shapely.geometry import box\n",
    "import geopandas as gpd\n",
    "import pycrs"
   ]
  },
  {
   "cell_type": "markdown",
   "metadata": {},
   "source": [
    "Function to get coords of geometry in rasterio format"
   ]
  },
  {
   "cell_type": "code",
   "execution_count": 12,
   "metadata": {},
   "outputs": [],
   "source": [
    "def get_features(gdf):\n",
    "    import json\n",
    "    return [json.loads(gdf.to_json())['features'][0]['geometry']]"
   ]
  },
  {
   "cell_type": "markdown",
   "metadata": {},
   "source": [
    "Function to clip rasters by `geo`"
   ]
  },
  {
   "cell_type": "code",
   "execution_count": 20,
   "metadata": {},
   "outputs": [],
   "source": [
    "def clip_tif(in_tif, bbox, out_tif):\n",
    "    # load raster data\n",
    "    in_data = rio.open(in_tif)\n",
    "    \n",
    "    # reproject bbox crs to landsat crs\n",
    "    geo = bbox.to_crs(crs=in_data.crs.data)\n",
    "    \n",
    "    # get coords\n",
    "    coords = get_features(geo)\n",
    "    \n",
    "    # clip by coords\n",
    "    out_img, out_transform = mask(dataset=in_data, shapes=coords, crop=True)\n",
    "    \n",
    "    # modify metadata\n",
    "    out_meta = in_data.meta.copy()\n",
    "    epsg_code = int(in_data.crs.data['init'][5:])\n",
    "    out_meta.update({'driver': 'GTiff',\n",
    "                'height': out_img.shape[1],\n",
    "                'width': out_img.shape[2],\n",
    "                'transform': out_transform,\n",
    "                'crs': pycrs.parse.from_epsg_code(epsg_code).to_proj4()})\n",
    "    \n",
    "    # save out_tif\n",
    "    with rio.open(out_tif, 'w', **out_meta) as dest:\n",
    "        dest.write(out_img)"
   ]
  },
  {
   "cell_type": "code",
   "execution_count": 21,
   "metadata": {},
   "outputs": [],
   "source": [
    "clip_tif('nir_test.tif', ripperdan_nw, 'nir_clip.tif')"
   ]
  },
  {
   "cell_type": "code",
   "execution_count": 22,
   "metadata": {},
   "outputs": [],
   "source": [
    "clip_tif('red_test.tif', ripperdan_nw, 'red_clip.tif')"
   ]
  },
  {
   "cell_type": "markdown",
   "metadata": {},
   "source": [
    "### 6. Calculate NDVI"
   ]
  },
  {
   "cell_type": "code",
   "execution_count": 33,
   "metadata": {},
   "outputs": [],
   "source": [
    "import matplotlib.pyplot as plt"
   ]
  },
  {
   "cell_type": "code",
   "execution_count": 30,
   "metadata": {},
   "outputs": [],
   "source": [
    "# open dataset\n",
    "b4 = rio.open(r'red_clip.tif')\n",
    "b5 = rio.open(r'nir_clip.tif')\n",
    "\n",
    "# read data as arrays\n",
    "nir = b5.read(1)\n",
    "red = b4.read(1)"
   ]
  },
  {
   "cell_type": "code",
   "execution_count": 31,
   "metadata": {
    "collapsed": true
   },
   "outputs": [
    {
     "name": "stderr",
     "output_type": "stream",
     "text": [
      "/home/paperspace/maanas/envs/falco/lib/python3.7/site-packages/ipykernel_launcher.py:1: RuntimeWarning: invalid value encountered in true_divide\n",
      "  \"\"\"Entry point for launching an IPython kernel.\n"
     ]
    }
   ],
   "source": [
    "ndvi = (nir.astype(float)-red.astype(float))/(nir+red)"
   ]
  },
  {
   "cell_type": "code",
   "execution_count": 37,
   "metadata": {},
   "outputs": [
    {
     "data": {
      "image/png": "[encoded data removed]",
      "text/plain": [
       "<Figure size 720x720 with 1 Axes>"
      ]
     },
     "metadata": {
      "needs_background": "light"
     },
     "output_type": "display_data"
    }
   ],
   "source": [
    "fig = plt.figure(figsize=(10,10))\n",
    "ax = fig.add_subplot(1,1,1)\n",
    "ax.set_title('ndvi')\n",
    "implot = plt.imshow(ndvi, cmap='RdYlGn', vmin=0, vmax=0.5)"
   ]
  }
 ],
 "metadata": {
  "kernelspec": {
   "display_name": "falco",
   "language": "python",
   "name": "falco"
  },
  "language_info": {
   "codemirror_mode": {
    "name": "ipython",
    "version": 3
   },
   "file_extension": ".py",
   "mimetype": "text/x-python",
   "name": "python",
   "nbconvert_exporter": "python",
   "pygments_lexer": "ipython3",
   "version": "3.7.3"
  }
 },
 "nbformat": 4,
 "nbformat_minor": 2
}
