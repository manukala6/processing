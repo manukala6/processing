{
 "cells": [
  {
   "cell_type": "markdown",
   "metadata": {},
   "source": [
    "## Divide Shapefile into Tiles\n",
    "This notebook divides an input shapefile by the coordinate grid into individual GeoJSONs or shapefiles. `coord_prec` denotes the edge length (in decimal coordinates) of each output tile. For each tile another output tile is produced with a buffer of `coord_prec / 100`, for use in generating spatial features rasters."
   ]
  },
  {
   "cell_type": "markdown",
   "metadata": {},
   "source": [
    "### Imports"
   ]
  },
  {
   "cell_type": "code",
   "execution_count": 1,
   "metadata": {},
   "outputs": [],
   "source": [
    "import os\n",
    "import json\n",
    "import geopandas as gpd\n",
    "import numpy as np\n",
    "import fiona\n",
    "from shapely.geometry import mapping, Polygon\n",
    "from matplotlib import pyplot as plt"
   ]
  },
  {
   "cell_type": "markdown",
   "metadata": {},
   "source": [
    "### Inputs and Directories"
   ]
  },
  {
   "cell_type": "code",
   "execution_count": 2,
   "metadata": {},
   "outputs": [],
   "source": [
    "# set up directories\n",
    "INPUT_DIR = '../../data/ghana/GHA_adm0/'\n",
    "OUTPUT_DIR = '../../data/ghana/tiles'\n",
    "\n",
    "# set up inputs/outputs\n",
    "input_shp = 'GHA_adm0.shp'\n",
    "coord_prec = 1\n",
    "output_prefix = 'ghana'\n",
    "\n",
    "# read inputs\n",
    "in_shp = gpd.read_file(os.path.join(INPUT_DIR, input_shp))"
   ]
  },
  {
   "cell_type": "markdown",
   "metadata": {},
   "source": [
    "### Extract Bounds of Shapefile"
   ]
  },
  {
   "cell_type": "code",
   "execution_count": 3,
   "metadata": {},
   "outputs": [
    {
     "data": {
      "text/plain": [
       "array([-3.,  5.,  1., 11.])"
      ]
     },
     "execution_count": 3,
     "metadata": {},
     "output_type": "execute_result"
    }
   ],
   "source": [
    "bounds_raw = in_shp.geometry.total_bounds\n",
    "bounds = np.array([bounds_raw[0].round(),\n",
    "                   bounds_raw[1].round(),\n",
    "                   bounds_raw[2].round(),\n",
    "                   bounds_raw[3].round()])\n",
    "bounds"
   ]
  },
  {
   "cell_type": "markdown",
   "metadata": {},
   "source": [
    "### Create Polygon Tiles"
   ]
  },
  {
   "cell_type": "code",
   "execution_count": 4,
   "metadata": {},
   "outputs": [],
   "source": [
    "tiles = []\n",
    "tiles_l = []\n",
    "numCols = (bounds[2] - bounds[0])\n",
    "numRows = (bounds[3] - bounds[1])\n",
    "\n",
    "# function to allow steps < 1\n",
    "def frange(start, stop, step):\n",
    "    i = start\n",
    "    while i < stop:\n",
    "        yield i\n",
    "        i += step\n",
    "\n",
    "# create tiles as Polygons with coord_prec edge length\n",
    "for k in frange(0, (numRows), coord_prec):\n",
    "    for i in frange(0, (numCols), coord_prec):\n",
    "        tile = Polygon([(bounds[0]+i,   bounds[1]+k),\n",
    "                        (bounds[0]+i+coord_prec, bounds[1]+k),\n",
    "                        (bounds[0]+i+coord_prec, bounds[1]+k+coord_prec),\n",
    "                        (bounds[0]+i,   bounds[1]+k+coord_prec)])\n",
    "        tiles.append(tile)\n",
    "\n",
    "# create larger Polygon tiles\n",
    "for tile in tiles:\n",
    "    l_buff = coord_prec / 100\n",
    "    tile_l = tile.buffer(l_buff).envelope\n",
    "    tiles_l.append(tile_l)"
   ]
  },
  {
   "cell_type": "markdown",
   "metadata": {},
   "source": [
    "### Display"
   ]
  },
  {
   "cell_type": "code",
   "execution_count": 5,
   "metadata": {},
   "outputs": [
    {
     "data": {
      "image/png": "[encoded data removed]",
      "text/plain": [
       "<Figure size 432x1008 with 1 Axes>"
      ]
     },
     "metadata": {
      "needs_background": "light"
     },
     "output_type": "display_data"
    }
   ],
   "source": [
    "numTiles = int(numCols * numRows * (1 / coord_prec) ** 2)\n",
    "fig, ax = plt.subplots(figsize=(6,14))\n",
    "in_shp.plot(alpha=0.5, ax=ax)\n",
    "plt.title(output_prefix + ' divided into ' + str(numTiles) + ' tiles')\n",
    "for j in range(0, numTiles):\n",
    "    x, y = tiles[j].exterior.xy\n",
    "    cx, cy = tiles[j].centroid.xy\n",
    "    plt.annotate(str(j), (cx[0], cy[0]))\n",
    "    plt.plot(x,y)"
   ]
  },
  {
   "cell_type": "markdown",
   "metadata": {},
   "source": [
    "### Save as GeoJSONs"
   ]
  },
  {
   "cell_type": "code",
   "execution_count": null,
   "metadata": {},
   "outputs": [],
   "source": [
    "l = 0\n",
    "for m in range(0, len(tiles)):\n",
    "    tile_s_fn = output_prefix + '_s_' + str(l) + '.json'\n",
    "    tile_l_fn = output_prefix + '_l_' + str(l) + '.json'\n",
    "    tile_s_data = gpd.GeoSeries(tiles[m]).__geo_interface__\n",
    "    tile_l_data = gpd.GeoSeries(tiles_l[m]).__geo_interface__\n",
    "    with open(os.path.join(OUTPUT_DIR, tile_s_fn), 'w') as tile_s_file:\n",
    "        json.dump(tile_s_data, tile_s_file)\n",
    "    with open(os.path.join(OUTPUT_DIR, tile_l_fn), 'w') as tile_l_file:\n",
    "        json.dump(tile_l_data, tile_l_file)\n",
    "    l += 1"
   ]
  },
  {
   "cell_type": "markdown",
   "metadata": {},
   "source": [
    "### Save as SHPs"
   ]
  },
  {
   "cell_type": "code",
   "execution_count": 6,
   "metadata": {},
   "outputs": [
    {
     "name": "stdout",
     "output_type": "stream",
     "text": [
      "../../data/ghana/tiles/ghana_s_0\n",
      "../../data/ghana/tiles/ghana_l_0\n",
      "../../data/ghana/tiles/ghana_s_1\n",
      "../../data/ghana/tiles/ghana_l_1\n",
      "../../data/ghana/tiles/ghana_s_2\n",
      "../../data/ghana/tiles/ghana_l_2\n",
      "../../data/ghana/tiles/ghana_s_3\n",
      "../../data/ghana/tiles/ghana_l_3\n",
      "../../data/ghana/tiles/ghana_s_4\n",
      "../../data/ghana/tiles/ghana_l_4\n",
      "../../data/ghana/tiles/ghana_s_5\n",
      "../../data/ghana/tiles/ghana_l_5\n",
      "../../data/ghana/tiles/ghana_s_6\n",
      "../../data/ghana/tiles/ghana_l_6\n",
      "../../data/ghana/tiles/ghana_s_7\n",
      "../../data/ghana/tiles/ghana_l_7\n",
      "../../data/ghana/tiles/ghana_s_8\n",
      "../../data/ghana/tiles/ghana_l_8\n",
      "../../data/ghana/tiles/ghana_s_9\n",
      "../../data/ghana/tiles/ghana_l_9\n",
      "../../data/ghana/tiles/ghana_s_10\n",
      "../../data/ghana/tiles/ghana_l_10\n",
      "../../data/ghana/tiles/ghana_s_11\n",
      "../../data/ghana/tiles/ghana_l_11\n",
      "../../data/ghana/tiles/ghana_s_12\n",
      "../../data/ghana/tiles/ghana_l_12\n",
      "../../data/ghana/tiles/ghana_s_13\n",
      "../../data/ghana/tiles/ghana_l_13\n",
      "../../data/ghana/tiles/ghana_s_14\n",
      "../../data/ghana/tiles/ghana_l_14\n",
      "../../data/ghana/tiles/ghana_s_15\n",
      "../../data/ghana/tiles/ghana_l_15\n",
      "../../data/ghana/tiles/ghana_s_16\n",
      "../../data/ghana/tiles/ghana_l_16\n",
      "../../data/ghana/tiles/ghana_s_17\n",
      "../../data/ghana/tiles/ghana_l_17\n",
      "../../data/ghana/tiles/ghana_s_18\n",
      "../../data/ghana/tiles/ghana_l_18\n",
      "../../data/ghana/tiles/ghana_s_19\n",
      "../../data/ghana/tiles/ghana_l_19\n",
      "../../data/ghana/tiles/ghana_s_20\n",
      "../../data/ghana/tiles/ghana_l_20\n",
      "../../data/ghana/tiles/ghana_s_21\n",
      "../../data/ghana/tiles/ghana_l_21\n",
      "../../data/ghana/tiles/ghana_s_22\n",
      "../../data/ghana/tiles/ghana_l_22\n",
      "../../data/ghana/tiles/ghana_s_23\n",
      "../../data/ghana/tiles/ghana_l_23\n"
     ]
    }
   ],
   "source": [
    "# define a polygon feature geometry with one attribute\n",
    "schema = {\n",
    "    'geometry': 'Polygon',\n",
    "    'properties': {'id': 'int'},\n",
    "}\n",
    "\n",
    "# save as SHP using fiona\n",
    "l = 0\n",
    "for m in range(0, len(tiles)):\n",
    "    tile_s_fn = output_prefix + '_s_' + str(l)\n",
    "    tile_l_fn = output_prefix + '_l_' + str(l)\n",
    "    tile_s_fp = os.path.join(OUTPUT_DIR, tile_s_fn)\n",
    "    tile_l_fp = os.path.join(OUTPUT_DIR, tile_l_fn)\n",
    "    if not (os.path.isdir('tile_s_fp') or os.path.isdir('tile_l_fp')):\n",
    "        os.makedirs(tile_s_fp)\n",
    "        os.makedirs(tile_l_fp)\n",
    "    with fiona.open(os.path.join(tile_s_fp,tile_s_fn+'.shp'), 'w', 'ESRI Shapefile', schema) as out_s_shp:\n",
    "        out_s_shp.write({\n",
    "            'geometry': mapping(tiles[l]),\n",
    "            'properties': {'id': 123}\n",
    "        })\n",
    "    print(tile_s_fp)\n",
    "    with fiona.open(os.path.join(tile_l_fp,tile_l_fn+'.shp'), 'w', 'ESRI Shapefile', schema) as out_l_shp:\n",
    "        out_l_shp.write({\n",
    "            'geometry': mapping(tiles_l[l]),\n",
    "            'properties': {'id': 123}\n",
    "        })\n",
    "    print(tile_l_fp)\n",
    "    l+=1"
   ]
  }
 ],
 "metadata": {
  "kernelspec": {
   "display_name": "Python [conda env:apollo] *",
   "language": "python",
   "name": "conda-env-apollo-py"
  },
  "language_info": {
   "codemirror_mode": {
    "name": "ipython",
    "version": 3
   },
   "file_extension": ".py",
   "mimetype": "text/x-python",
   "name": "python",
   "nbconvert_exporter": "python",
   "pygments_lexer": "ipython3",
   "version": "3.7.4"
  }
 },
 "nbformat": 4,
 "nbformat_minor": 2
}
